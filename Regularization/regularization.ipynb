{
 "cells": [
  {
   "metadata": {},
   "cell_type": "markdown",
   "source": "# Regularization",
   "id": "51dc39dd242be9d0"
  },
  {
   "metadata": {
    "ExecuteTime": {
     "end_time": "2024-08-13T07:34:53.638006Z",
     "start_time": "2024-08-13T07:34:51.161381Z"
    }
   },
   "cell_type": "code",
   "source": [
    "!pip install pandas\n",
    "!pip install numpy\n",
    "!pip install opencv-python\n",
    "!pip install scipy\n",
    "!pip install matplotlib"
   ],
   "id": "64adadfc5031b7fc",
   "outputs": [
    {
     "name": "stdout",
     "output_type": "stream",
     "text": [
      "Requirement already satisfied: pandas in /opt/homebrew/lib/python3.11/site-packages (2.0.3)\r\n",
      "Requirement already satisfied: python-dateutil>=2.8.2 in /Users/shubhamgupta/Library/Python/3.11/lib/python/site-packages (from pandas) (2.8.2)\r\n",
      "Requirement already satisfied: pytz>=2020.1 in /opt/homebrew/lib/python3.11/site-packages (from pandas) (2023.3.post1)\r\n",
      "Requirement already satisfied: tzdata>=2022.1 in /opt/homebrew/lib/python3.11/site-packages (from pandas) (2023.4)\r\n",
      "Requirement already satisfied: numpy>=1.21.0 in /opt/homebrew/lib/python3.11/site-packages (from pandas) (1.25.1)\r\n",
      "Requirement already satisfied: six>=1.5 in /Users/shubhamgupta/Library/Python/3.11/lib/python/site-packages (from python-dateutil>=2.8.2->pandas) (1.16.0)\r\n",
      "Requirement already satisfied: numpy in /opt/homebrew/lib/python3.11/site-packages (1.25.1)\r\n",
      "Requirement already satisfied: opencv-python in /opt/homebrew/lib/python3.11/site-packages (4.10.0.84)\r\n",
      "Requirement already satisfied: numpy>=1.21.2 in /opt/homebrew/lib/python3.11/site-packages (from opencv-python) (1.25.1)\r\n",
      "Requirement already satisfied: scipy in /opt/homebrew/lib/python3.11/site-packages (1.11.3)\r\n",
      "Requirement already satisfied: numpy<1.28.0,>=1.21.6 in /opt/homebrew/lib/python3.11/site-packages (from scipy) (1.25.1)\r\n",
      "Requirement already satisfied: matplotlib in /opt/homebrew/lib/python3.11/site-packages (3.7.2)\r\n",
      "Requirement already satisfied: contourpy>=1.0.1 in /opt/homebrew/lib/python3.11/site-packages (from matplotlib) (1.1.0)\r\n",
      "Requirement already satisfied: cycler>=0.10 in /opt/homebrew/lib/python3.11/site-packages (from matplotlib) (0.11.0)\r\n",
      "Requirement already satisfied: fonttools>=4.22.0 in /opt/homebrew/lib/python3.11/site-packages (from matplotlib) (4.42.1)\r\n",
      "Requirement already satisfied: kiwisolver>=1.0.1 in /opt/homebrew/lib/python3.11/site-packages (from matplotlib) (1.4.5)\r\n",
      "Requirement already satisfied: numpy>=1.20 in /opt/homebrew/lib/python3.11/site-packages (from matplotlib) (1.25.1)\r\n",
      "Requirement already satisfied: packaging>=20.0 in /opt/homebrew/lib/python3.11/site-packages (from matplotlib) (23.2)\r\n",
      "Requirement already satisfied: pillow>=6.2.0 in /opt/homebrew/lib/python3.11/site-packages (from matplotlib) (9.5.0)\r\n",
      "Requirement already satisfied: pyparsing<3.1,>=2.3.1 in /opt/homebrew/lib/python3.11/site-packages (from matplotlib) (3.0.9)\r\n",
      "Requirement already satisfied: python-dateutil>=2.7 in /Users/shubhamgupta/Library/Python/3.11/lib/python/site-packages (from matplotlib) (2.8.2)\r\n",
      "Requirement already satisfied: six>=1.5 in /Users/shubhamgupta/Library/Python/3.11/lib/python/site-packages (from python-dateutil>=2.7->matplotlib) (1.16.0)\r\n"
     ]
    }
   ],
   "execution_count": 38
  },
  {
   "cell_type": "code",
   "id": "initial_id",
   "metadata": {
    "collapsed": true,
    "ExecuteTime": {
     "end_time": "2024-08-13T07:34:53.643063Z",
     "start_time": "2024-08-13T07:34:53.639741Z"
    }
   },
   "source": [
    "import pandas as pd\n",
    "import numpy as np\n",
    "import cv2\n",
    "from scipy.interpolate import UnivariateSpline, interp1d\n",
    "import matplotlib.pyplot as plt\n",
    "from image2polyline import extract_pixel_data"
   ],
   "outputs": [],
   "execution_count": 39
  },
  {
   "metadata": {
    "ExecuteTime": {
     "end_time": "2024-08-13T07:34:53.646667Z",
     "start_time": "2024-08-13T07:34:53.643849Z"
    }
   },
   "cell_type": "code",
   "source": [
    "# Smoothing function\n",
    "def smooth_points(x, y, s=0):\n",
    "    spline_x = UnivariateSpline(range(len(x)), x, s=s)\n",
    "    spline_y = UnivariateSpline(range(len(y)), y, s=s)\n",
    "    return spline_x(range(len(x))), spline_y(range(len(y)))"
   ],
   "id": "36ebfd2d39d7f1f0",
   "outputs": [],
   "execution_count": 40
  },
  {
   "metadata": {
    "ExecuteTime": {
     "end_time": "2024-08-13T07:34:53.650151Z",
     "start_time": "2024-08-13T07:34:53.647982Z"
    }
   },
   "cell_type": "code",
   "source": [
    "# Interpolation function\n",
    "def interpolate_points(x, y, num_points):\n",
    "    t = np.linspace(0, 1, len(x))\n",
    "    f_x = interp1d(t, x, kind='linear')\n",
    "    f_y = interp1d(t, y, kind='linear')\n",
    "    t_new = np.linspace(0, 1, num_points)\n",
    "    return f_x(t_new), f_y(t_new)"
   ],
   "id": "c6de897ae036cc4a",
   "outputs": [],
   "execution_count": 41
  },
  {
   "metadata": {
    "ExecuteTime": {
     "end_time": "2024-08-13T07:34:53.653218Z",
     "start_time": "2024-08-13T07:34:53.650989Z"
    }
   },
   "cell_type": "code",
   "source": [
    "def points_to_image(points, width=1000, height=1000):\n",
    "    img = np.zeros((height, width), dtype=np.uint8)\n",
    "    for x, y in points:\n",
    "        if 0 <= int(y) < height and 0 <= int(x) < width:\n",
    "            img[int(y), int(x)] = 255\n",
    "    return img"
   ],
   "id": "a82a338d167da6a6",
   "outputs": [],
   "execution_count": 42
  },
  {
   "metadata": {
    "ExecuteTime": {
     "end_time": "2024-08-13T07:34:53.660496Z",
     "start_time": "2024-08-13T07:34:53.653929Z"
    }
   },
   "cell_type": "code",
   "source": [
    "def detect_shapes(img):\n",
    "    shapes = []\n",
    "    edges = cv2.Canny(img.copy(), 0, 50)\n",
    "    edges_line = cv2.GaussianBlur(edges.copy(), (15, 15), 0)\n",
    "\n",
    "    lines = cv2.HoughLinesP(edges_line, 1, np.pi / 2, threshold=200, minLineLength=0, maxLineGap=100)\n",
    "    if lines is not None:\n",
    "        for line in lines:\n",
    "            for x1, y1, x2, y2 in line:\n",
    "                shapes.append((\"Line\", np.array([[x1, y1], [x2, y2]])))\n",
    "\n",
    "    contours, _ = cv2.findContours(img.copy(), cv2.RETR_EXTERNAL, cv2.CHAIN_APPROX_SIMPLE)\n",
    "    for contour in contours:\n",
    "        if cv2.contourArea(contour) < 500:\n",
    "            continue\n",
    "\n",
    "        epsilon = 0.03 * cv2.arcLength(contour, True)\n",
    "        approx = cv2.approxPolyDP(contour, epsilon, True)\n",
    "\n",
    "        area1 = cv2.contourArea(approx)\n",
    "        area2 = cv2.contourArea(contour)\n",
    "\n",
    "        if len(approx) == 3:\n",
    "            shapes.append((\"Triangle\", approx))\n",
    "        elif len(approx) == 4:\n",
    "            (x, y, w, h) = cv2.boundingRect(approx)\n",
    "            aspect_ratio = w / float(h)\n",
    "            shape = \"Square\" if 0.85 <= aspect_ratio <= 1.15 else \"Rectangle\"\n",
    "            shapes.append((shape, approx))\n",
    "        elif len(approx) > 4:\n",
    "            area = cv2.contourArea(contour)\n",
    "            (x, y), radius = cv2.minEnclosingCircle(contour)\n",
    "            circularity = area / (np.pi * radius * radius)\n",
    "            if 0.70 <= circularity <= 1.3:\n",
    "                center = (int(x), int(y))\n",
    "                radius = int(radius)\n",
    "                shapes.append((\"Circle\", (center, radius)))\n",
    "            else:\n",
    "                if 1.05 * area2 >= area1 >= 0.95 * area2:\n",
    "                    shapes.append((\"Polygon\", approx))\n",
    "\n",
    "            if len(approx) >= 6:\n",
    "                ellipse = cv2.fitEllipse(contour)\n",
    "                center, axes, angle = ellipse\n",
    "                axes = (int(axes[0] / 2), int(axes[1] / 2))\n",
    "                ellipse_contour = cv2.ellipse2Poly(\n",
    "                    center=(int(center[0]), int(center[1])),\n",
    "                    axes=axes,\n",
    "                    angle=int(angle),\n",
    "                    arcStart=0,\n",
    "                    arcEnd=360,\n",
    "                    delta=5\n",
    "                )\n",
    "                ellipse_contour = np.array(ellipse_contour)\n",
    "                distance = cv2.pointPolygonTest(ellipse_contour, center, True)\n",
    "                if abs(distance) < 40:\n",
    "                    shapes.append((\"Ellipse\", ellipse_contour))\n",
    "\n",
    "            if len(approx) == 10:\n",
    "                shapes.append((\"Star\", approx))\n",
    "\n",
    "    shape_priorities = {\"Circle\": 1, \"Square\": 2, \"Rectangle\": 3, \"Triangle\": 4, \"Ellipse\": 5,\"Star\": 6, \"Polygon\": 7,\n",
    "                        \"Line\": 8}\n",
    "\n",
    "    if shapes:\n",
    "        shapes = sorted(shapes, key=lambda s: shape_priorities.get(s[0], 9))\n",
    "        most_probable_shape = shapes[0]\n",
    "        return [most_probable_shape]\n",
    "\n",
    "    return shapes"
   ],
   "id": "b7ab810fdf677b45",
   "outputs": [],
   "execution_count": 43
  },
  {
   "metadata": {
    "ExecuteTime": {
     "end_time": "2024-08-13T07:34:53.664661Z",
     "start_time": "2024-08-13T07:34:53.661171Z"
    }
   },
   "cell_type": "code",
   "source": [
    "def draw_shapes(img, shapes, curve_points=None):\n",
    "    if len(img.shape) == 2:\n",
    "        img_color = cv2.cvtColor(img, cv2.COLOR_GRAY2BGR)\n",
    "    else:\n",
    "        img_color = img.copy()\n",
    "\n",
    "    blank_image = np.zeros_like(img_color)\n",
    "    shape_coords = []\n",
    "\n",
    "    if shapes:\n",
    "        for shape, contour in shapes:\n",
    "            color = (255, 255, 255)  # White\n",
    "\n",
    "            if shape == \"Circle\":\n",
    "                center, radius = contour\n",
    "                # Generate points for the circle\n",
    "                num_points = 100\n",
    "                angle = np.linspace(0, 2 * np.pi, num_points)\n",
    "                circle_points = np.array([\n",
    "                    (int(center[0] + radius * np.cos(a)), int(center[1] + radius * np.sin(a)))\n",
    "                    for a in angle\n",
    "                ])\n",
    "                cv2.polylines(blank_image, [circle_points], isClosed=True, color=color, thickness=1)\n",
    "                shape_coords.append((\"Circle\", circle_points))\n",
    "            else:\n",
    "                cv2.drawContours(blank_image, [contour], -1, color, 1)\n",
    "                coords = contour.squeeze()\n",
    "                shape_coords.append((shape, coords))\n",
    "    else:\n",
    "        if curve_points is not None:\n",
    "            color = (255, 255, 255)  # White\n",
    "            cv2.polylines(blank_image, [curve_points], isClosed=False, color=color, thickness=1)\n",
    "            shape_coords.append((\"Curve\", curve_points))\n",
    "\n",
    "    return blank_image, shape_coords"
   ],
   "id": "982e7e618b82a0c0",
   "outputs": [],
   "execution_count": 44
  },
  {
   "metadata": {
    "ExecuteTime": {
     "end_time": "2024-08-13T07:34:53.667618Z",
     "start_time": "2024-08-13T07:34:53.665270Z"
    }
   },
   "cell_type": "code",
   "source": [
    "def combine_images(images, positions, width=1000, height=1000):\n",
    "    combined_image = np.zeros((height, width, 3), dtype=np.uint8)\n",
    "    for img, (x, y) in zip(images, positions):\n",
    "        h, w = img.shape[:2]\n",
    "        x = max(0, min(x, width - w))\n",
    "        y = max(0, min(y, height - h))\n",
    "        mask = img != 0\n",
    "        combined_image[y:y + h, x:x + w][mask] = img[mask]\n",
    "    return combined_image"
   ],
   "id": "f4b10d60a9b01fee",
   "outputs": [],
   "execution_count": 45
  },
  {
   "metadata": {
    "ExecuteTime": {
     "end_time": "2024-08-13T07:34:53.671913Z",
     "start_time": "2024-08-13T07:34:53.668188Z"
    }
   },
   "cell_type": "code",
   "source": [
    "def execute(csv_path):\n",
    "    df = pd.read_csv(f\"../trash/tc/{csv_path}.csv\", header=None, names=['Curve', 'Shape', 'X', 'Y'])\n",
    "    # Initialize lists for storing results\n",
    "    processed_curves = []\n",
    "    images = []\n",
    "    positions = []\n",
    "    output_data = []\n",
    "    \n",
    "    # Group by curve\n",
    "    curves = df.groupby(['Curve', 'Shape'])\n",
    "    \n",
    "    for curve_id, group in curves:\n",
    "        x, y = group['X'].values, group['Y'].values\n",
    "        x_smooth, y_smooth = smooth_points(x, y, s=0)\n",
    "        x_interp, y_interp = interpolate_points(x_smooth, y_smooth, num_points=1000)\n",
    "    \n",
    "        pos_x, pos_y = int(x.min()), int(y.min())\n",
    "        points = np.vstack((x_interp, y_interp)).T\n",
    "        positions.append((int(x.min()), int(y.min())))\n",
    "    \n",
    "        img = points_to_image(points)\n",
    "        shapes = detect_shapes(img)\n",
    "    \n",
    "        img_with_shapes, shape_coords = draw_shapes(img, shapes, curve_points=np.int32(points))\n",
    "        images.append(img_with_shapes)\n",
    "    \n",
    "        # Store shape coordinates\n",
    "        for shape_type, coords in shape_coords:\n",
    "            if shape_type == \"Curve\":\n",
    "                # Ensure coordinates are flattened properly\n",
    "                for ix,iy in coords:\n",
    "                    output_data.append([curve_id[0], curve_id[1],ix,iy])\n",
    "            else:\n",
    "                for pt in coords:\n",
    "                    # Ensure point coordinates are flattened properly\n",
    "                    ix,iy = pt.flatten().tolist()\n",
    "                    output_data.append([curve_id[0], curve_id[1], ix, iy])\n",
    "    \n",
    "    # Combine all images into one large image\n",
    "    combined_image = combine_images(images, positions, width=1000, height=1000)\n",
    "    \n",
    "    cv2.imwrite(\"../master_folder/utils/output/task1/combined_shapes.png\", combined_image)\n",
    "    \n",
    "    plt.imshow(combined_image, cmap='gray')\n",
    "    plt.axis('off')\n",
    "    plt.show()\n",
    "    \n",
    "    extract_pixel_data(\"../master_folder/utils/output/algo4/combined_shapes.png\", f\"../master_folder/utils/output/out_csv/pixel_data-{csv_path}.csv\")"
   ],
   "id": "57b90efcb7d3e783",
   "outputs": [],
   "execution_count": 46
  },
  {
   "metadata": {
    "ExecuteTime": {
     "end_time": "2024-08-13T07:34:56.852799Z",
     "start_time": "2024-08-13T07:34:53.673378Z"
    }
   },
   "cell_type": "code",
   "source": [
    "if __name__ == '__main__':\n",
    "    execute(\"frag0\")\n",
    "    execute(\"frag1\")\n",
    "    execute(\"frag2\")\n",
    "    execute(\"isolated\")"
   ],
   "id": "f4bb1f9a348d47ba",
   "outputs": [
    {
     "data": {
      "text/plain": [
       "<Figure size 640x480 with 1 Axes>"
      ],
      "image/png": "[encoded data removed]"
     },
     "metadata": {},
     "output_type": "display_data"
    },
    {
     "name": "stdout",
     "output_type": "stream",
     "text": [
      "Filtered pixel data saved to ../master_folder/utils/output/out_csv/pixel_data-frag0.csv.\n"
     ]
    },
    {
     "data": {
      "text/plain": [
       "<Figure size 640x480 with 1 Axes>"
      ],
      "image/png": "[encoded data removed]"
     },
     "metadata": {},
     "output_type": "display_data"
    },
    {
     "name": "stdout",
     "output_type": "stream",
     "text": [
      "Filtered pixel data saved to ../master_folder/utils/output/out_csv/pixel_data-frag1.csv.\n"
     ]
    },
    {
     "data": {
      "text/plain": [
       "<Figure size 640x480 with 1 Axes>"
      ],
      "image/png": "[encoded data removed]"
     },
     "metadata": {},
     "output_type": "display_data"
    },
    {
     "name": "stdout",
     "output_type": "stream",
     "text": [
      "Filtered pixel data saved to ../master_folder/utils/output/out_csv/pixel_data-frag2.csv.\n"
     ]
    },
    {
     "data": {
      "text/plain": [
       "<Figure size 640x480 with 1 Axes>"
      ],
      "image/png": "[encoded data removed]"
     },
     "metadata": {},
     "output_type": "display_data"
    },
    {
     "name": "stdout",
     "output_type": "stream",
     "text": [
      "Filtered pixel data saved to ../master_folder/utils/output/out_csv/pixel_data-isolated.csv.\n"
     ]
    }
   ],
   "execution_count": 47
  },
  {
   "metadata": {
    "ExecuteTime": {
     "end_time": "2024-08-13T07:34:56.854853Z",
     "start_time": "2024-08-13T07:34:56.853483Z"
    }
   },
   "cell_type": "code",
   "source": "",
   "id": "edbae51c200ae1dd",
   "outputs": [],
   "execution_count": 47
  }
 ],
 "metadata": {
  "kernelspec": {
   "display_name": "Python 3",
   "language": "python",
   "name": "python3"
  },
  "language_info": {
   "codemirror_mode": {
    "name": "ipython",
    "version": 2
   },
   "file_extension": ".py",
   "mimetype": "text/x-python",
   "name": "python",
   "nbconvert_exporter": "python",
   "pygments_lexer": "ipython2",
   "version": "2.7.6"
  }
 },
 "nbformat": 4,
 "nbformat_minor": 5
}
