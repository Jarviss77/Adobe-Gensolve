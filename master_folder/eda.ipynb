{
 "cells": [
  {
   "cell_type": "code",
   "execution_count": null,
   "metadata": {},
   "outputs": [],
   "source": [
    "!pip install opencv-python\n",
    "!pip install matplotlib\n",
    "!pip install numpy\n",
    "!pip install scipy\n",
    "!pip install pandas\n",
    "!pip install scikit-image"
   ]
  },
  {
   "cell_type": "markdown",
   "metadata": {},
   "source": [
    "# **EDA**"
   ]
  },
  {
   "cell_type": "code",
   "execution_count": null,
   "metadata": {},
   "outputs": [],
   "source": [
    "import pandas as pd\n",
    "import numpy as np\n",
    "import matplotlib.pyplot as plt\n",
    "import seaborn as sns\n",
    "\n",
    "# Load data into a DataFrame\n",
    "df = pd.read_csv(\"utils/tc/occlusion2.csv\", header=None, names=['Curve', 'Shape', 'X', 'Y'])\n",
    "\n",
    "# 1. Basic Dataset Information\n",
    "print(\"Basic Information:\")\n",
    "print(df.info())\n",
    "\n",
    "# 2. Check for Missing Values\n",
    "print(\"\\nMissing Values:\")\n",
    "print(df.isnull().sum())\n",
    "\n",
    "# 3. Summary Statistics\n",
    "print(\"\\nSummary Statistics:\")\n",
    "print(df.describe())"
   ]
  },
  {
   "cell_type": "code",
   "execution_count": null,
   "metadata": {},
   "outputs": [],
   "source": [
    "# Group by Curve and Shape, then calculate the number of unique shapes\n",
    "unique_shapes_df = df.groupby(['Curve', 'Shape']).size().reset_index(name='Count of coordinates')\n",
    "print(\"Number of Unique Shapes after GroupBy:\")\n",
    "print(unique_shapes_df)\n",
    "\n",
    "# Calculate Min and Max X, Y Coordinates for Each Shape\n",
    "shape_bounds_df = df.groupby(['Curve', 'Shape']).agg(\n",
    "    X_Min=('X', 'min'),\n",
    "    X_Max=('X', 'max'),\n",
    "    Y_Min=('Y', 'min'),\n",
    "    Y_Max=('Y', 'max')\n",
    ").reset_index()\n",
    "\n",
    "print(\"\\nMin and Max X, Y Coordinates for Each Shape:\")\n",
    "print(shape_bounds_df)"
   ]
  },
  {
   "cell_type": "code",
   "execution_count": null,
   "metadata": {},
   "outputs": [],
   "source": [
    "shape_bounds_df = df.groupby(['Curve', 'Shape']).agg(\n",
    "    X_Min=('X', 'min'),\n",
    "    X_Max=('X', 'max'),\n",
    "    Y_Min=('Y', 'min'),\n",
    "    Y_Max=('Y', 'max')\n",
    ").reset_index()\n",
    "\n",
    "# Merge the original dataframe with the bounds data\n",
    "df_with_bounds = pd.merge(df, shape_bounds_df, on=['Curve', 'Shape'])\n",
    "\n",
    "# Determine the number of subplots needed\n",
    "num_shapes = df_with_bounds.groupby(['Curve', 'Shape']).ngroups\n",
    "cols = 2  # Reduce columns to make the plots larger\n",
    "rows = int(np.ceil(num_shapes / cols))\n",
    "\n",
    "fig, axes = plt.subplots(rows, cols, figsize=(16, rows * 6))\n",
    "axes = axes.flatten()\n",
    "\n",
    "# Set the same limits for all subplots\n",
    "x_min_global = df['X'].min()\n",
    "x_max_global = df['X'].max()\n",
    "y_min_global = df['Y'].min()\n",
    "y_max_global = df['Y'].max()\n",
    "\n",
    "# Plot each shape with its bounding box\n",
    "for idx, ((curve, shape), group) in enumerate(df_with_bounds.groupby(['Curve', 'Shape'])):\n",
    "    ax = axes[idx]\n",
    "\n",
    "    # Plot the individual points of the shape\n",
    "    ax.scatter(group['X'], group['Y'], alpha=0.7, s=20, c='blue')\n",
    "\n",
    "    # Plot the bounding box\n",
    "    x_min, x_max = group['X_Min'].values[0], group['X_Max'].values[0]\n",
    "    y_min, y_max = group['Y_Min'].values[0], group['Y_Max'].values[0]\n",
    "    ax.plot([x_min, x_max, x_max, x_min, x_min], [y_min, y_min, y_max, y_max, y_min], color='red', linewidth=2)\n",
    "\n",
    "    # Labels and Titles\n",
    "    ax.set_title(f'Curve {curve} Shape {shape}', fontsize=14)\n",
    "    ax.set_xlabel('X Coordinates', fontsize=12)\n",
    "    ax.set_ylabel('Y Coordinates', fontsize=12)\n",
    "\n",
    "    # Ensure the aspect ratio is correct and apply the same limits\n",
    "    ax.set_aspect('equal', adjustable='box')\n",
    "    ax.set_xlim(x_min_global, x_max_global)\n",
    "    ax.set_ylim(y_min_global, y_max_global)\n",
    "    ax.grid(True)\n",
    "\n",
    "# Remove any empty subplots\n",
    "for i in range(num_shapes, len(axes)):\n",
    "    fig.delaxes(axes[i])\n",
    "\n",
    "plt.tight_layout()\n",
    "plt.show()"
   ]
  }
 ],
 "metadata": {
  "language_info": {
   "name": "python"
  }
 },
 "nbformat": 4,
 "nbformat_minor": 2
}
